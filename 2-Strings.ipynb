{
 "cells": [
  {
   "cell_type": "code",
   "execution_count": 1,
   "id": "7d753863",
   "metadata": {},
   "outputs": [
    {
     "data": {
      "text/plain": [
       "'hello world'"
      ]
     },
     "execution_count": 1,
     "metadata": {},
     "output_type": "execute_result"
    }
   ],
   "source": [
    "\"hello world\""
   ]
  },
  {
   "cell_type": "code",
   "execution_count": 2,
   "id": "0d806a48",
   "metadata": {},
   "outputs": [
    {
     "name": "stdout",
     "output_type": "stream",
     "text": [
      "hello python\n"
     ]
    }
   ],
   "source": [
    "print(\"hello python\")"
   ]
  },
  {
   "cell_type": "code",
   "execution_count": 3,
   "id": "7d328ca9",
   "metadata": {},
   "outputs": [],
   "source": [
    "name = \"ozgur\""
   ]
  },
  {
   "cell_type": "code",
   "execution_count": 4,
   "id": "22698e1f",
   "metadata": {},
   "outputs": [
    {
     "data": {
      "text/plain": [
       "str"
      ]
     },
     "execution_count": 4,
     "metadata": {},
     "output_type": "execute_result"
    }
   ],
   "source": [
    "type(name)"
   ]
  },
  {
   "cell_type": "code",
   "execution_count": 5,
   "id": "91b6585b",
   "metadata": {},
   "outputs": [
    {
     "data": {
      "text/plain": [
       "'ozgur yazılım'"
      ]
     },
     "execution_count": 5,
     "metadata": {},
     "output_type": "execute_result"
    }
   ],
   "source": [
    "'ozgur yazılım'"
   ]
  },
  {
   "cell_type": "code",
   "execution_count": 6,
   "id": "a84ebcd9",
   "metadata": {},
   "outputs": [
    {
     "data": {
      "text/plain": [
       "\"ozgur's home\""
      ]
     },
     "execution_count": 6,
     "metadata": {},
     "output_type": "execute_result"
    }
   ],
   "source": [
    "\"ozgur's home\""
   ]
  },
  {
   "cell_type": "code",
   "execution_count": 7,
   "id": "202a2444",
   "metadata": {},
   "outputs": [
    {
     "data": {
      "text/plain": [
       "'Ozgur'"
      ]
     },
     "execution_count": 7,
     "metadata": {},
     "output_type": "execute_result"
    }
   ],
   "source": [
    "name.capitalize() #ilk harfi buyutur"
   ]
  },
  {
   "cell_type": "code",
   "execution_count": 8,
   "id": "ed3703ab",
   "metadata": {},
   "outputs": [],
   "source": [
    "x = 10"
   ]
  },
  {
   "cell_type": "code",
   "execution_count": 9,
   "id": "0a4ada08",
   "metadata": {},
   "outputs": [
    {
     "name": "stdout",
     "output_type": "stream",
     "text": [
      "Help on built-in function count:\n",
      "\n",
      "count(...) method of builtins.str instance\n",
      "    S.count(sub[, start[, end]]) -> int\n",
      "    \n",
      "    Return the number of non-overlapping occurrences of substring sub in\n",
      "    string S[start:end].  Optional arguments start and end are\n",
      "    interpreted as in slice notation.\n",
      "\n"
     ]
    }
   ],
   "source": [
    "help(name.count) # yardım"
   ]
  },
  {
   "cell_type": "code",
   "execution_count": 10,
   "id": "5870e7ea",
   "metadata": {},
   "outputs": [
    {
     "data": {
      "text/plain": [
       "1"
      ]
     },
     "execution_count": 10,
     "metadata": {},
     "output_type": "execute_result"
    }
   ],
   "source": [
    "name.count(\"ozg\") #aranan string var ise 1 döner,yoksa 0 "
   ]
  },
  {
   "cell_type": "code",
   "execution_count": 11,
   "id": "be90c90f",
   "metadata": {},
   "outputs": [
    {
     "data": {
      "text/plain": [
       "'OZGUR'"
      ]
     },
     "execution_count": 11,
     "metadata": {},
     "output_type": "execute_result"
    }
   ],
   "source": [
    "name.upper() # butun karakterleri buyuk yapar"
   ]
  },
  {
   "cell_type": "code",
   "execution_count": 12,
   "id": "3a71c617",
   "metadata": {},
   "outputs": [],
   "source": [
    "nameUpper = name.upper()"
   ]
  },
  {
   "cell_type": "code",
   "execution_count": 13,
   "id": "5bfdf8d6",
   "metadata": {},
   "outputs": [
    {
     "data": {
      "text/plain": [
       "'OZGUR'"
      ]
     },
     "execution_count": 13,
     "metadata": {},
     "output_type": "execute_result"
    }
   ],
   "source": [
    "nameUpper"
   ]
  },
  {
   "cell_type": "code",
   "execution_count": 14,
   "id": "9757f013",
   "metadata": {},
   "outputs": [
    {
     "data": {
      "text/plain": [
       "12"
      ]
     },
     "execution_count": 14,
     "metadata": {},
     "output_type": "execute_result"
    }
   ],
   "source": [
    "name = \"ozgur vurgun\"\n",
    "len(name)"
   ]
  },
  {
   "cell_type": "code",
   "execution_count": 15,
   "id": "e5fd895d",
   "metadata": {},
   "outputs": [
    {
     "name": "stdout",
     "output_type": "stream",
     "text": [
      "ozgur\n",
      "vurgun\n"
     ]
    }
   ],
   "source": [
    "print(\"ozgur\\nvurgun\") #new line #escape characters"
   ]
  },
  {
   "cell_type": "code",
   "execution_count": 16,
   "id": "18a5d324",
   "metadata": {},
   "outputs": [
    {
     "name": "stdout",
     "output_type": "stream",
     "text": [
      "ozgur \tvurgun\n"
     ]
    }
   ],
   "source": [
    "print(\"ozgur \\tvurgun\")"
   ]
  },
  {
   "cell_type": "markdown",
   "id": "b4d5a929",
   "metadata": {},
   "source": [
    "# index"
   ]
  },
  {
   "cell_type": "code",
   "execution_count": 17,
   "id": "a54c1ace",
   "metadata": {},
   "outputs": [],
   "source": [
    "myString = \"hello python\""
   ]
  },
  {
   "cell_type": "code",
   "execution_count": 18,
   "id": "8d333b7e",
   "metadata": {},
   "outputs": [
    {
     "data": {
      "text/plain": [
       "'o'"
      ]
     },
     "execution_count": 18,
     "metadata": {},
     "output_type": "execute_result"
    }
   ],
   "source": [
    "myString[4]"
   ]
  },
  {
   "cell_type": "code",
   "execution_count": 19,
   "id": "d4728511",
   "metadata": {},
   "outputs": [
    {
     "data": {
      "text/plain": [
       "'h'"
      ]
     },
     "execution_count": 19,
     "metadata": {},
     "output_type": "execute_result"
    }
   ],
   "source": [
    "myString[0]"
   ]
  },
  {
   "cell_type": "code",
   "execution_count": 20,
   "id": "6dbd7a32",
   "metadata": {},
   "outputs": [
    {
     "data": {
      "text/plain": [
       "'n'"
      ]
     },
     "execution_count": 20,
     "metadata": {},
     "output_type": "execute_result"
    }
   ],
   "source": [
    "#son karakteri alma\n",
    "myString[len(myString)-1]"
   ]
  },
  {
   "cell_type": "code",
   "execution_count": 21,
   "id": "c6232bdf",
   "metadata": {},
   "outputs": [],
   "source": [
    "myName = \"james hetfield\""
   ]
  },
  {
   "cell_type": "code",
   "execution_count": 22,
   "id": "501957b8",
   "metadata": {},
   "outputs": [
    {
     "data": {
      "text/plain": [
       "'d'"
      ]
     },
     "execution_count": 22,
     "metadata": {},
     "output_type": "execute_result"
    }
   ],
   "source": [
    "myName[len(myName)-1]"
   ]
  },
  {
   "cell_type": "code",
   "execution_count": 23,
   "id": "31edc936",
   "metadata": {},
   "outputs": [
    {
     "data": {
      "text/plain": [
       "'d'"
      ]
     },
     "execution_count": 23,
     "metadata": {},
     "output_type": "execute_result"
    }
   ],
   "source": [
    "myName[-1] #son karakteri verir"
   ]
  },
  {
   "cell_type": "code",
   "execution_count": 24,
   "id": "29e11991",
   "metadata": {},
   "outputs": [],
   "source": [
    "barcode = \"ABCDE1234654125\""
   ]
  },
  {
   "cell_type": "code",
   "execution_count": 25,
   "id": "dc08fd17",
   "metadata": {},
   "outputs": [
    {
     "data": {
      "text/plain": [
       "'C'"
      ]
     },
     "execution_count": 25,
     "metadata": {},
     "output_type": "execute_result"
    }
   ],
   "source": [
    "barcode[2]"
   ]
  },
  {
   "cell_type": "code",
   "execution_count": 26,
   "id": "88164d60",
   "metadata": {},
   "outputs": [
    {
     "data": {
      "text/plain": [
       "'ABC'"
      ]
     },
     "execution_count": 26,
     "metadata": {},
     "output_type": "execute_result"
    }
   ],
   "source": [
    "barcode[0] + barcode[1] + barcode[2]"
   ]
  },
  {
   "cell_type": "code",
   "execution_count": 27,
   "id": "b5d6ad94",
   "metadata": {},
   "outputs": [
    {
     "data": {
      "text/plain": [
       "'james hetfieldjames hetfieldjames hetfieldjames hetfield'"
      ]
     },
     "execution_count": 27,
     "metadata": {},
     "output_type": "execute_result"
    }
   ],
   "source": [
    "myName * 4"
   ]
  },
  {
   "cell_type": "code",
   "execution_count": 28,
   "id": "d22d50f3",
   "metadata": {},
   "outputs": [
    {
     "data": {
      "text/plain": [
       "'DE1234654125'"
      ]
     },
     "execution_count": 28,
     "metadata": {},
     "output_type": "execute_result"
    }
   ],
   "source": [
    "#slicing, starting index, stopping index, stepping size\n",
    "#barcode[starting index:stopping index:stepping size]\n",
    "barcode[3::]"
   ]
  },
  {
   "cell_type": "code",
   "execution_count": 29,
   "id": "6437a47f",
   "metadata": {},
   "outputs": [
    {
     "data": {
      "text/plain": [
       "'ABC'"
      ]
     },
     "execution_count": 29,
     "metadata": {},
     "output_type": "execute_result"
    }
   ],
   "source": [
    "barcode[:3:]"
   ]
  },
  {
   "cell_type": "code",
   "execution_count": 30,
   "id": "03dc5241",
   "metadata": {},
   "outputs": [
    {
     "data": {
      "text/plain": [
       "'ACE24515'"
      ]
     },
     "execution_count": 30,
     "metadata": {},
     "output_type": "execute_result"
    }
   ],
   "source": [
    "barcode[::2] # ikiser ikiser atla"
   ]
  },
  {
   "cell_type": "code",
   "execution_count": 31,
   "id": "7d9a27c6",
   "metadata": {},
   "outputs": [
    {
     "data": {
      "text/plain": [
       "'DE'"
      ]
     },
     "execution_count": 31,
     "metadata": {},
     "output_type": "execute_result"
    }
   ],
   "source": [
    " barcode[3:5:]"
   ]
  },
  {
   "cell_type": "code",
   "execution_count": 32,
   "id": "034bff5f",
   "metadata": {},
   "outputs": [
    {
     "data": {
      "text/plain": [
       "'DE'"
      ]
     },
     "execution_count": 32,
     "metadata": {},
     "output_type": "execute_result"
    }
   ],
   "source": [
    "barcode[3:5]"
   ]
  },
  {
   "cell_type": "code",
   "execution_count": 33,
   "id": "b938f5ee",
   "metadata": {},
   "outputs": [
    {
     "data": {
      "text/plain": [
       "'BD13'"
      ]
     },
     "execution_count": 33,
     "metadata": {},
     "output_type": "execute_result"
    }
   ],
   "source": [
    "barcode[1:9:2]"
   ]
  },
  {
   "cell_type": "code",
   "execution_count": 34,
   "id": "4d1a8fd4",
   "metadata": {},
   "outputs": [
    {
     "data": {
      "text/plain": [
       "'5214564321EDCBA'"
      ]
     },
     "execution_count": 34,
     "metadata": {},
     "output_type": "execute_result"
    }
   ],
   "source": [
    "barcode[::-1] #sondan baslar"
   ]
  },
  {
   "cell_type": "code",
   "execution_count": 44,
   "id": "6cffb969",
   "metadata": {},
   "outputs": [],
   "source": [
    "name = \"ozgur vurgun\""
   ]
  },
  {
   "cell_type": "code",
   "execution_count": null,
   "id": "54b66427",
   "metadata": {},
   "outputs": [],
   "source": []
  },
  {
   "cell_type": "code",
   "execution_count": 40,
   "id": "0a12a0a3",
   "metadata": {},
   "outputs": [
    {
     "data": {
      "text/plain": [
       "2"
      ]
     },
     "execution_count": 40,
     "metadata": {},
     "output_type": "execute_result"
    }
   ],
   "source": [
    "name.index(\"g\")"
   ]
  },
  {
   "cell_type": "code",
   "execution_count": 38,
   "id": "4117761d",
   "metadata": {},
   "outputs": [
    {
     "data": {
      "text/plain": [
       "['ozgur', 'vurgun']"
      ]
     },
     "execution_count": 38,
     "metadata": {},
     "output_type": "execute_result"
    }
   ],
   "source": [
    "name.split()"
   ]
  },
  {
   "cell_type": "code",
   "execution_count": null,
   "id": "465c7069",
   "metadata": {},
   "outputs": [],
   "source": []
  }
 ],
 "metadata": {
  "kernelspec": {
   "display_name": "Python 3 (ipykernel)",
   "language": "python",
   "name": "python3"
  },
  "language_info": {
   "codemirror_mode": {
    "name": "ipython",
    "version": 3
   },
   "file_extension": ".py",
   "mimetype": "text/x-python",
   "name": "python",
   "nbconvert_exporter": "python",
   "pygments_lexer": "ipython3",
   "version": "3.10.9"
  }
 },
 "nbformat": 4,
 "nbformat_minor": 5
}
