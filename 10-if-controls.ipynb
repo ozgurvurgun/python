{
 "cells": [
  {
   "cell_type": "code",
   "execution_count": 1,
   "id": "61c141fa",
   "metadata": {},
   "outputs": [],
   "source": [
    "x = 5\n",
    "y = 2"
   ]
  },
  {
   "cell_type": "code",
   "execution_count": 2,
   "id": "0255e4a9",
   "metadata": {},
   "outputs": [
    {
     "data": {
      "text/plain": [
       "False"
      ]
     },
     "execution_count": 2,
     "metadata": {},
     "output_type": "execute_result"
    }
   ],
   "source": [
    "x < y "
   ]
  },
  {
   "cell_type": "code",
   "execution_count": 3,
   "id": "12c7e601",
   "metadata": {},
   "outputs": [
    {
     "data": {
      "text/plain": [
       "True"
      ]
     },
     "execution_count": 3,
     "metadata": {},
     "output_type": "execute_result"
    }
   ],
   "source": [
    "y < x"
   ]
  },
  {
   "cell_type": "code",
   "execution_count": 40,
   "id": "15bf09a1",
   "metadata": {},
   "outputs": [],
   "source": [
    "my_superhero = \"flash\""
   ]
  },
  {
   "cell_type": "code",
   "execution_count": 41,
   "id": "dd66d4dd",
   "metadata": {},
   "outputs": [
    {
     "name": "stdout",
     "output_type": "stream",
     "text": [
      "flash bulundu\n"
     ]
    }
   ],
   "source": [
    "if my_superhero == \"Batman\":\n",
    "    #indentation\n",
    "    print(\"i am batman\")\n",
    "elif my_superhero == \"flash\":\n",
    "    print(\"flash bulundu\")\n",
    "else:\n",
    "    print(\"else statement runing\")    "
   ]
  },
  {
   "cell_type": "code",
   "execution_count": 44,
   "id": "86c6e311",
   "metadata": {},
   "outputs": [],
   "source": [
    "super_heros = [\"spider\",\"batman\",\"ironman\",\"thor\",\"america\"]"
   ]
  },
  {
   "cell_type": "code",
   "execution_count": 45,
   "id": "aa17fc97",
   "metadata": {},
   "outputs": [
    {
     "name": "stdout",
     "output_type": "stream",
     "text": [
      ":(\n"
     ]
    }
   ],
   "source": [
    "if \"eceman\" in super_heros:\n",
    "    print(\":)\")\n",
    "else:\n",
    "    print(\":(\")"
   ]
  },
  {
   "cell_type": "code",
   "execution_count": null,
   "id": "6a4eb3dd",
   "metadata": {},
   "outputs": [],
   "source": []
  }
 ],
 "metadata": {
  "kernelspec": {
   "display_name": "Python 3 (ipykernel)",
   "language": "python",
   "name": "python3"
  },
  "language_info": {
   "codemirror_mode": {
    "name": "ipython",
    "version": 3
   },
   "file_extension": ".py",
   "mimetype": "text/x-python",
   "name": "python",
   "nbconvert_exporter": "python",
   "pygments_lexer": "ipython3",
   "version": "3.10.9"
  }
 },
 "nbformat": 4,
 "nbformat_minor": 5
}
